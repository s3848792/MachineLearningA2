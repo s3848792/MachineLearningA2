{
 "cells": [
  {
   "cell_type": "code",
   "execution_count": 1,
   "metadata": {},
   "outputs": [
    {
     "name": "stderr",
     "output_type": "stream",
     "text": [
      "2023-05-05 16:03:01.989748: I tensorflow/core/platform/cpu_feature_guard.cc:193] This TensorFlow binary is optimized with oneAPI Deep Neural Network Library (oneDNN) to use the following CPU instructions in performance-critical operations:  SSE4.1 SSE4.2\n",
      "To enable them in other operations, rebuild TensorFlow with the appropriate compiler flags.\n"
     ]
    }
   ],
   "source": [
    "import numpy as np\n",
    "from sklearn.model_selection import train_test_split\n",
    "import pandas as pd\n",
    "import matplotlib.pyplot as plt\n",
    "import random\n",
    "import zipfile\n",
    "import tensorflow as tf\n",
    "AUTOTUNE = tf.data.experimental.AUTOTUNE\n",
    "\n",
    "random.seed(1)# setting random seed\n",
    "main_data = pd.read_csv('./Image_classification_data (1)/data_labels_mainData.csv')"
   ]
  },
  {
   "cell_type": "code",
   "execution_count": 2,
   "metadata": {},
   "outputs": [
    {
     "data": {
      "text/plain": [
       "54    389\n",
       "29    355\n",
       "9     348\n",
       "8     332\n",
       "20    325\n",
       "18    320\n",
       "17    310\n",
       "10    302\n",
       "51    286\n",
       "55    263\n",
       "23    254\n",
       "7     253\n",
       "41    250\n",
       "21    224\n",
       "40    209\n",
       "14    207\n",
       "6     198\n",
       "50    195\n",
       "24    192\n",
       "49    187\n",
       "13    180\n",
       "25    180\n",
       "52    178\n",
       "5     169\n",
       "33    163\n",
       "58    161\n",
       "19    158\n",
       "26    157\n",
       "22    152\n",
       "57    149\n",
       "48    147\n",
       "43    137\n",
       "31    137\n",
       "42    136\n",
       "3     136\n",
       "47    133\n",
       "53    132\n",
       "12    130\n",
       "36    128\n",
       "4     127\n",
       "15    125\n",
       "44    121\n",
       "46    120\n",
       "59    115\n",
       "60    115\n",
       "16    111\n",
       "30    110\n",
       "39    105\n",
       "32     99\n",
       "56     92\n",
       "38     84\n",
       "45     74\n",
       "37     71\n",
       "11     56\n",
       "2      33\n",
       "1      19\n",
       "27     17\n",
       "28     15\n",
       "34     14\n",
       "35     11\n",
       "Name: patientID, dtype: int64"
      ]
     },
     "execution_count": 2,
     "metadata": {},
     "output_type": "execute_result"
    }
   ],
   "source": [
    "main_data['patientID'].value_counts()"
   ]
  },
  {
   "cell_type": "code",
   "execution_count": 3,
   "metadata": {},
   "outputs": [
    {
     "data": {
      "text/html": [
       "<div>\n",
       "<style scoped>\n",
       "    .dataframe tbody tr th:only-of-type {\n",
       "        vertical-align: middle;\n",
       "    }\n",
       "\n",
       "    .dataframe tbody tr th {\n",
       "        vertical-align: top;\n",
       "    }\n",
       "\n",
       "    .dataframe thead th {\n",
       "        text-align: right;\n",
       "    }\n",
       "</style>\n",
       "<table border=\"1\" class=\"dataframe\">\n",
       "  <thead>\n",
       "    <tr style=\"text-align: right;\">\n",
       "      <th></th>\n",
       "      <th>InstanceID</th>\n",
       "      <th>patientID</th>\n",
       "      <th>ImageName</th>\n",
       "      <th>cellType</th>\n",
       "      <th>isCancerous</th>\n",
       "      <th>epithelial</th>\n",
       "      <th>fibroblast</th>\n",
       "      <th>inflammatory</th>\n",
       "      <th>others</th>\n",
       "    </tr>\n",
       "  </thead>\n",
       "  <tbody>\n",
       "    <tr>\n",
       "      <th>0</th>\n",
       "      <td>22405</td>\n",
       "      <td>1</td>\n",
       "      <td>22405.png</td>\n",
       "      <td>0</td>\n",
       "      <td>0</td>\n",
       "      <td>0</td>\n",
       "      <td>1</td>\n",
       "      <td>0</td>\n",
       "      <td>0</td>\n",
       "    </tr>\n",
       "    <tr>\n",
       "      <th>1</th>\n",
       "      <td>22406</td>\n",
       "      <td>1</td>\n",
       "      <td>22406.png</td>\n",
       "      <td>0</td>\n",
       "      <td>0</td>\n",
       "      <td>0</td>\n",
       "      <td>1</td>\n",
       "      <td>0</td>\n",
       "      <td>0</td>\n",
       "    </tr>\n",
       "    <tr>\n",
       "      <th>2</th>\n",
       "      <td>22407</td>\n",
       "      <td>1</td>\n",
       "      <td>22407.png</td>\n",
       "      <td>0</td>\n",
       "      <td>0</td>\n",
       "      <td>0</td>\n",
       "      <td>1</td>\n",
       "      <td>0</td>\n",
       "      <td>0</td>\n",
       "    </tr>\n",
       "    <tr>\n",
       "      <th>3</th>\n",
       "      <td>22408</td>\n",
       "      <td>1</td>\n",
       "      <td>22408.png</td>\n",
       "      <td>0</td>\n",
       "      <td>0</td>\n",
       "      <td>0</td>\n",
       "      <td>1</td>\n",
       "      <td>0</td>\n",
       "      <td>0</td>\n",
       "    </tr>\n",
       "    <tr>\n",
       "      <th>4</th>\n",
       "      <td>22409</td>\n",
       "      <td>1</td>\n",
       "      <td>22409.png</td>\n",
       "      <td>0</td>\n",
       "      <td>0</td>\n",
       "      <td>0</td>\n",
       "      <td>1</td>\n",
       "      <td>0</td>\n",
       "      <td>0</td>\n",
       "    </tr>\n",
       "    <tr>\n",
       "      <th>...</th>\n",
       "      <td>...</td>\n",
       "      <td>...</td>\n",
       "      <td>...</td>\n",
       "      <td>...</td>\n",
       "      <td>...</td>\n",
       "      <td>...</td>\n",
       "      <td>...</td>\n",
       "      <td>...</td>\n",
       "      <td>...</td>\n",
       "    </tr>\n",
       "    <tr>\n",
       "      <th>9891</th>\n",
       "      <td>1625</td>\n",
       "      <td>60</td>\n",
       "      <td>1625.png</td>\n",
       "      <td>2</td>\n",
       "      <td>1</td>\n",
       "      <td>1</td>\n",
       "      <td>0</td>\n",
       "      <td>0</td>\n",
       "      <td>0</td>\n",
       "    </tr>\n",
       "    <tr>\n",
       "      <th>9892</th>\n",
       "      <td>1626</td>\n",
       "      <td>60</td>\n",
       "      <td>1626.png</td>\n",
       "      <td>2</td>\n",
       "      <td>1</td>\n",
       "      <td>1</td>\n",
       "      <td>0</td>\n",
       "      <td>0</td>\n",
       "      <td>0</td>\n",
       "    </tr>\n",
       "    <tr>\n",
       "      <th>9893</th>\n",
       "      <td>1627</td>\n",
       "      <td>60</td>\n",
       "      <td>1627.png</td>\n",
       "      <td>2</td>\n",
       "      <td>1</td>\n",
       "      <td>1</td>\n",
       "      <td>0</td>\n",
       "      <td>0</td>\n",
       "      <td>0</td>\n",
       "    </tr>\n",
       "    <tr>\n",
       "      <th>9894</th>\n",
       "      <td>1628</td>\n",
       "      <td>60</td>\n",
       "      <td>1628.png</td>\n",
       "      <td>2</td>\n",
       "      <td>1</td>\n",
       "      <td>1</td>\n",
       "      <td>0</td>\n",
       "      <td>0</td>\n",
       "      <td>0</td>\n",
       "    </tr>\n",
       "    <tr>\n",
       "      <th>9895</th>\n",
       "      <td>1629</td>\n",
       "      <td>60</td>\n",
       "      <td>1629.png</td>\n",
       "      <td>2</td>\n",
       "      <td>1</td>\n",
       "      <td>1</td>\n",
       "      <td>0</td>\n",
       "      <td>0</td>\n",
       "      <td>0</td>\n",
       "    </tr>\n",
       "  </tbody>\n",
       "</table>\n",
       "<p>9896 rows × 9 columns</p>\n",
       "</div>"
      ],
      "text/plain": [
       "      InstanceID  patientID  ImageName  cellType  isCancerous  epithelial  \\\n",
       "0          22405          1  22405.png         0            0           0   \n",
       "1          22406          1  22406.png         0            0           0   \n",
       "2          22407          1  22407.png         0            0           0   \n",
       "3          22408          1  22408.png         0            0           0   \n",
       "4          22409          1  22409.png         0            0           0   \n",
       "...          ...        ...        ...       ...          ...         ...   \n",
       "9891        1625         60   1625.png         2            1           1   \n",
       "9892        1626         60   1626.png         2            1           1   \n",
       "9893        1627         60   1627.png         2            1           1   \n",
       "9894        1628         60   1628.png         2            1           1   \n",
       "9895        1629         60   1629.png         2            1           1   \n",
       "\n",
       "      fibroblast  inflammatory  others  \n",
       "0              1             0       0  \n",
       "1              1             0       0  \n",
       "2              1             0       0  \n",
       "3              1             0       0  \n",
       "4              1             0       0  \n",
       "...          ...           ...     ...  \n",
       "9891           0             0       0  \n",
       "9892           0             0       0  \n",
       "9893           0             0       0  \n",
       "9894           0             0       0  \n",
       "9895           0             0       0  \n",
       "\n",
       "[9896 rows x 9 columns]"
      ]
     },
     "execution_count": 3,
     "metadata": {},
     "output_type": "execute_result"
    }
   ],
   "source": [
    "cancerTypes = ['epithelial', 'inflammatory', 'fibroblast', 'others']\n",
    "\n",
    "one_hot = pd.get_dummies(main_data['cellTypeName'])\n",
    "main_data = main_data.drop('cellTypeName',axis = 1)\n",
    "main_data = main_data.join(one_hot)\n",
    "main_data\n",
    "\n",
    "# https://stackoverflow.com/questions/37292872/how-can-i-one-hot-encode-in-python"
   ]
  },
  {
   "cell_type": "code",
   "execution_count": 4,
   "metadata": {},
   "outputs": [
    {
     "data": {
      "text/plain": [
       "InstanceID      0\n",
       "patientID       0\n",
       "ImageName       0\n",
       "cellType        0\n",
       "isCancerous     0\n",
       "epithelial      0\n",
       "fibroblast      0\n",
       "inflammatory    0\n",
       "others          0\n",
       "dtype: int64"
      ]
     },
     "execution_count": 4,
     "metadata": {},
     "output_type": "execute_result"
    }
   ],
   "source": [
    "main_data.isnull().sum()"
   ]
  },
  {
   "cell_type": "code",
   "execution_count": 5,
   "metadata": {},
   "outputs": [
    {
     "data": {
      "text/plain": [
       "5"
      ]
     },
     "execution_count": 5,
     "metadata": {},
     "output_type": "execute_result"
    }
   ],
   "source": [
    "from sklearn.model_selection import GroupShuffleSplit \n",
    "\n",
    "splitter = GroupShuffleSplit(n_splits=5,train_size=.7, random_state=42)\n",
    "split = splitter.split(main_data, groups=main_data['patientID'])\n",
    "splitter.get_n_splits()\n",
    "\n",
    "# train_inds, test_inds = next(split)\n",
    "\n",
    "# train_data = main_data.iloc[train_inds]\n",
    "# test_data = main_data.iloc[test_inds]\n",
    "# train_data"
   ]
  },
  {
   "cell_type": "code",
   "execution_count": 6,
   "metadata": {},
   "outputs": [],
   "source": [
    "X = main_data.drop(columns=[\"isCancerous\"])\n",
    "y = main_data[\"isCancerous\"]\n",
    "\n",
    "gs_1 = GroupShuffleSplit(n_splits=1, train_size=.8, random_state=42)\n",
    "train_test_ix, val_ix = next(gs_1.split(X, y, groups=main_data[\"patientID\"]))\n",
    "X_train_test = X.loc[train_test_ix]\n",
    "X_val = X.loc[val_ix]\n",
    "y_train_test = y.loc[train_test_ix]\n",
    "y_val = y.loc[val_ix]\n",
    "\n",
    "X_train_test = X_train_test.reset_index(drop=True)\n",
    "y_train_test = y_train_test.reset_index(drop=True)\n",
    "gs_2 = GroupShuffleSplit(n_splits=1, train_size=.75, random_state=42)\n",
    "train_ix, test_ix = next(gs_2.split(X_train_test, y_train_test, groups=X_train_test[\"patientID\"]))\n",
    "X_train = X_train_test.loc[train_ix]\n",
    "X_test = X_train_test.loc[test_ix]\n",
    "y_train = y.loc[train_ix]\n",
    "y_test = y.loc[test_ix]\n",
    "\n",
    "# https://stackoverflow.com/questions/68152473/python-split-to-train-test-val-using-groupshufflesplit"
   ]
  },
  {
   "cell_type": "code",
   "execution_count": 9,
   "metadata": {},
   "outputs": [
    {
     "data": {
      "text/plain": [
       "(array([-10.,   0.,  10.,  20.,  30.,  40.,  50.,  60.,  70.]),\n",
       " [Text(0.0, 0, '0.0'),\n",
       "  Text(0.2, 0, '0.2'),\n",
       "  Text(0.4, 0, '0.4'),\n",
       "  Text(0.6000000000000001, 0, '0.6'),\n",
       "  Text(0.8, 0, '0.8'),\n",
       "  Text(1.0, 0, '1.0'),\n",
       "  Text(0, 0, ''),\n",
       "  Text(0, 0, ''),\n",
       "  Text(0, 0, '')])"
      ]
     },
     "execution_count": 9,
     "metadata": {},
     "output_type": "execute_result"
    },
    {
     "data": {
      "image/png": "[encoded data removed]",
      "text/plain": [
       "<Figure size 1000x700 with 1 Axes>"
      ]
     },
     "metadata": {},
     "output_type": "display_data"
    }
   ],
   "source": [
    "plt.figure(figsize=(10,7))\n",
    "plt.subplot(1,2,1)\n",
    "plt.tight_layout(pad=4.0)\n",
    "plt.hist(x=X_train['patientID'], alpha=0.3, color='r', bins=60,range=(0,60))\n",
    "plt.hist(x=X_val['patientID'], alpha=0.3, color='b', bins=60, range=(0,60))\n",
    "plt.hist(x=X_test['patientID'], alpha=0.3, color='g', bins=60, range=(0,60))\n",
    "# plt.hist(x=train_data['patientID'], alpha=0.3, color='b', bins=60, align='left')\n",
    "plt.xticks(rotation=60)"
   ]
  },
  {
   "cell_type": "code",
   "execution_count": null,
   "metadata": {},
   "outputs": [],
   "source": [
    "INPUT_DIM = (27,27,3)\n",
    "HIDDEN_LAYER_DIM = 256\n",
    "OUTPUT_CLASSES = 10"
   ]
  },
  {
   "cell_type": "code",
   "execution_count": null,
   "metadata": {},
   "outputs": [],
   "source": [
    "model = tf.keras.Sequential([\n",
    "    tf.keras.layers.Flatten(input_shape=INPUT_DIM),\n",
    "    tf.keras.layers.Dense(HIDDEN_LAYER_DIM, activation='sigmoid'),\n",
    "    tf.keras.layers.Dense(OUTPUT_CLASSES)\n",
    "])"
   ]
  },
  {
   "cell_type": "code",
   "execution_count": null,
   "metadata": {},
   "outputs": [],
   "source": [
    "model.summary()"
   ]
  },
  {
   "cell_type": "code",
   "execution_count": null,
   "metadata": {},
   "outputs": [],
   "source": []
  }
 ],
 "metadata": {
  "kernelspec": {
   "display_name": "Python 3 (ipykernel)",
   "language": "python",
   "name": "python3"
  },
  "language_info": {
   "codemirror_mode": {
    "name": "ipython",
    "version": 3
   },
   "file_extension": ".py",
   "mimetype": "text/x-python",
   "name": "python",
   "nbconvert_exporter": "python",
   "pygments_lexer": "ipython3",
   "version": "3.9.13"
  }
 },
 "nbformat": 4,
 "nbformat_minor": 4
}

{
 "cells": [
  {
   "cell_type": "code",
   "execution_count": 1,
   "metadata": {},
   "outputs": [
    {
     "name": "stderr",
     "output_type": "stream",
     "text": [
      "2023-05-08 17:05:40.630735: I tensorflow/core/platform/cpu_feature_guard.cc:193] This TensorFlow binary is optimized with oneAPI Deep Neural Network Library (oneDNN) to use the following CPU instructions in performance-critical operations:  SSE4.1 SSE4.2\n",
      "To enable them in other operations, rebuild TensorFlow with the appropriate compiler flags.\n"
     ]
    }
   ],
   "source": [
    "import numpy as np\n",
    "from sklearn.model_selection import train_test_split\n",
    "import pandas as pd\n",
    "import matplotlib.pyplot as plt\n",
    "import random\n",
    "import zipfile\n",
    "import tensorflow as tf\n",
    "AUTOTUNE = tf.data.experimental.AUTOTUNE\n",
    "\n",
    "random.seed(1)# setting random seed\n",
    "main_data = pd.read_csv('./Image_classification_data/data_labels_mainData.csv')"
   ]
  },
  {
   "cell_type": "code",
   "execution_count": 2,
   "metadata": {},
   "outputs": [],
   "source": [
    "# main_data['patientID'].value_counts()"
   ]
  },
  {
   "cell_type": "code",
   "execution_count": 3,
   "metadata": {},
   "outputs": [
    {
     "data": {
      "text/html": [
       "<div>\n",
       "<style scoped>\n",
       "    .dataframe tbody tr th:only-of-type {\n",
       "        vertical-align: middle;\n",
       "    }\n",
       "\n",
       "    .dataframe tbody tr th {\n",
       "        vertical-align: top;\n",
       "    }\n",
       "\n",
       "    .dataframe thead th {\n",
       "        text-align: right;\n",
       "    }\n",
       "</style>\n",
       "<table border=\"1\" class=\"dataframe\">\n",
       "  <thead>\n",
       "    <tr style=\"text-align: right;\">\n",
       "      <th></th>\n",
       "      <th>InstanceID</th>\n",
       "      <th>patientID</th>\n",
       "      <th>ImageName</th>\n",
       "      <th>cellType</th>\n",
       "      <th>isCancerous</th>\n",
       "      <th>epithelial</th>\n",
       "      <th>fibroblast</th>\n",
       "      <th>inflammatory</th>\n",
       "      <th>others</th>\n",
       "    </tr>\n",
       "  </thead>\n",
       "  <tbody>\n",
       "    <tr>\n",
       "      <th>0</th>\n",
       "      <td>22405</td>\n",
       "      <td>1</td>\n",
       "      <td>22405.png</td>\n",
       "      <td>0</td>\n",
       "      <td>0</td>\n",
       "      <td>0</td>\n",
       "      <td>1</td>\n",
       "      <td>0</td>\n",
       "      <td>0</td>\n",
       "    </tr>\n",
       "    <tr>\n",
       "      <th>1</th>\n",
       "      <td>22406</td>\n",
       "      <td>1</td>\n",
       "      <td>22406.png</td>\n",
       "      <td>0</td>\n",
       "      <td>0</td>\n",
       "      <td>0</td>\n",
       "      <td>1</td>\n",
       "      <td>0</td>\n",
       "      <td>0</td>\n",
       "    </tr>\n",
       "    <tr>\n",
       "      <th>2</th>\n",
       "      <td>22407</td>\n",
       "      <td>1</td>\n",
       "      <td>22407.png</td>\n",
       "      <td>0</td>\n",
       "      <td>0</td>\n",
       "      <td>0</td>\n",
       "      <td>1</td>\n",
       "      <td>0</td>\n",
       "      <td>0</td>\n",
       "    </tr>\n",
       "    <tr>\n",
       "      <th>3</th>\n",
       "      <td>22408</td>\n",
       "      <td>1</td>\n",
       "      <td>22408.png</td>\n",
       "      <td>0</td>\n",
       "      <td>0</td>\n",
       "      <td>0</td>\n",
       "      <td>1</td>\n",
       "      <td>0</td>\n",
       "      <td>0</td>\n",
       "    </tr>\n",
       "    <tr>\n",
       "      <th>4</th>\n",
       "      <td>22409</td>\n",
       "      <td>1</td>\n",
       "      <td>22409.png</td>\n",
       "      <td>0</td>\n",
       "      <td>0</td>\n",
       "      <td>0</td>\n",
       "      <td>1</td>\n",
       "      <td>0</td>\n",
       "      <td>0</td>\n",
       "    </tr>\n",
       "    <tr>\n",
       "      <th>...</th>\n",
       "      <td>...</td>\n",
       "      <td>...</td>\n",
       "      <td>...</td>\n",
       "      <td>...</td>\n",
       "      <td>...</td>\n",
       "      <td>...</td>\n",
       "      <td>...</td>\n",
       "      <td>...</td>\n",
       "      <td>...</td>\n",
       "    </tr>\n",
       "    <tr>\n",
       "      <th>9891</th>\n",
       "      <td>1625</td>\n",
       "      <td>60</td>\n",
       "      <td>1625.png</td>\n",
       "      <td>2</td>\n",
       "      <td>1</td>\n",
       "      <td>1</td>\n",
       "      <td>0</td>\n",
       "      <td>0</td>\n",
       "      <td>0</td>\n",
       "    </tr>\n",
       "    <tr>\n",
       "      <th>9892</th>\n",
       "      <td>1626</td>\n",
       "      <td>60</td>\n",
       "      <td>1626.png</td>\n",
       "      <td>2</td>\n",
       "      <td>1</td>\n",
       "      <td>1</td>\n",
       "      <td>0</td>\n",
       "      <td>0</td>\n",
       "      <td>0</td>\n",
       "    </tr>\n",
       "    <tr>\n",
       "      <th>9893</th>\n",
       "      <td>1627</td>\n",
       "      <td>60</td>\n",
       "      <td>1627.png</td>\n",
       "      <td>2</td>\n",
       "      <td>1</td>\n",
       "      <td>1</td>\n",
       "      <td>0</td>\n",
       "      <td>0</td>\n",
       "      <td>0</td>\n",
       "    </tr>\n",
       "    <tr>\n",
       "      <th>9894</th>\n",
       "      <td>1628</td>\n",
       "      <td>60</td>\n",
       "      <td>1628.png</td>\n",
       "      <td>2</td>\n",
       "      <td>1</td>\n",
       "      <td>1</td>\n",
       "      <td>0</td>\n",
       "      <td>0</td>\n",
       "      <td>0</td>\n",
       "    </tr>\n",
       "    <tr>\n",
       "      <th>9895</th>\n",
       "      <td>1629</td>\n",
       "      <td>60</td>\n",
       "      <td>1629.png</td>\n",
       "      <td>2</td>\n",
       "      <td>1</td>\n",
       "      <td>1</td>\n",
       "      <td>0</td>\n",
       "      <td>0</td>\n",
       "      <td>0</td>\n",
       "    </tr>\n",
       "  </tbody>\n",
       "</table>\n",
       "<p>9896 rows × 9 columns</p>\n",
       "</div>"
      ],
      "text/plain": [
       "      InstanceID  patientID  ImageName  cellType  isCancerous  epithelial  \\\n",
       "0          22405          1  22405.png         0            0           0   \n",
       "1          22406          1  22406.png         0            0           0   \n",
       "2          22407          1  22407.png         0            0           0   \n",
       "3          22408          1  22408.png         0            0           0   \n",
       "4          22409          1  22409.png         0            0           0   \n",
       "...          ...        ...        ...       ...          ...         ...   \n",
       "9891        1625         60   1625.png         2            1           1   \n",
       "9892        1626         60   1626.png         2            1           1   \n",
       "9893        1627         60   1627.png         2            1           1   \n",
       "9894        1628         60   1628.png         2            1           1   \n",
       "9895        1629         60   1629.png         2            1           1   \n",
       "\n",
       "      fibroblast  inflammatory  others  \n",
       "0              1             0       0  \n",
       "1              1             0       0  \n",
       "2              1             0       0  \n",
       "3              1             0       0  \n",
       "4              1             0       0  \n",
       "...          ...           ...     ...  \n",
       "9891           0             0       0  \n",
       "9892           0             0       0  \n",
       "9893           0             0       0  \n",
       "9894           0             0       0  \n",
       "9895           0             0       0  \n",
       "\n",
       "[9896 rows x 9 columns]"
      ]
     },
     "execution_count": 3,
     "metadata": {},
     "output_type": "execute_result"
    }
   ],
   "source": [
    "cancerTypes = ['epithelial', 'inflammatory', 'fibroblast', 'others']\n",
    "\n",
    "one_hot = pd.get_dummies(main_data['cellTypeName'])\n",
    "main_data = main_data.drop('cellTypeName',axis = 1)\n",
    "main_data = main_data.join(one_hot)\n",
    "main_data\n",
    "\n",
    "# https://stackoverflow.com/questions/37292872/how-can-i-one-hot-encode-in-python"
   ]
  },
  {
   "cell_type": "code",
   "execution_count": 4,
   "metadata": {},
   "outputs": [
    {
     "data": {
      "text/plain": [
       "InstanceID      0\n",
       "patientID       0\n",
       "ImageName       0\n",
       "cellType        0\n",
       "isCancerous     0\n",
       "epithelial      0\n",
       "fibroblast      0\n",
       "inflammatory    0\n",
       "others          0\n",
       "dtype: int64"
      ]
     },
     "execution_count": 4,
     "metadata": {},
     "output_type": "execute_result"
    }
   ],
   "source": [
    "main_data.isnull().sum()"
   ]
  },
  {
   "cell_type": "code",
   "execution_count": 5,
   "metadata": {},
   "outputs": [
    {
     "data": {
      "text/plain": [
       "5"
      ]
     },
     "execution_count": 5,
     "metadata": {},
     "output_type": "execute_result"
    }
   ],
   "source": [
    "from sklearn.model_selection import GroupShuffleSplit \n",
    "\n",
    "splitter = GroupShuffleSplit(n_splits=5, random_state=42)\n",
    "split = splitter.split(main_data, groups=main_data['patientID'])\n",
    "splitter.get_n_splits()"
   ]
  },
  {
   "cell_type": "code",
   "execution_count": 6,
   "metadata": {},
   "outputs": [],
   "source": [
    "# X = main_data.drop(columns=[\"isCancerous\"])\n",
    "# y = main_data[\"isCancerous\"]\n",
    "\n",
    "\n",
    "# gs_1 = GroupShuffleSplit(n_splits=1, train_size=.8, random_state=42)\n",
    "# train_test_ix, val_ix = next(gs_1.split(X, y, groups=main_data[\"patientID\"]))\n",
    "# X_train_test = X.loc[train_test_ix]\n",
    "# X_val = X.loc[val_ix]\n",
    "# y_train_test = y.loc[train_test_ix]\n",
    "# y_val = y.loc[val_ix]\n",
    "\n",
    "# X_train_test = X_train_test.reset_index(drop=True)\n",
    "# y_train_test = y_train_test.reset_index(drop=True)\n",
    "# gs_2 = GroupShuffleSplit(n_splits=1, train_size=.75, random_state=42)\n",
    "# train_ix, test_ix = next(gs_2.split(X_train_test, y_train_test, groups=X_train_test[\"patientID\"]))\n",
    "# X_train = X_train_test.loc[train_ix]\n",
    "# X_test = X_train_test.loc[test_ix]\n",
    "# y_train = y.loc[train_ix]\n",
    "# y_test = y.loc[test_ix]\n",
    "\n",
    "# # https://stackoverflow.com/questions/68152473/python-split-to-train-test-val-using-groupshufflesplit"
   ]
  },
  {
   "cell_type": "code",
   "execution_count": 7,
   "metadata": {},
   "outputs": [],
   "source": [
    "gs_1 = GroupShuffleSplit(n_splits=1, train_size=.8, random_state=42)\n",
    "train_test_ix, val_ix = next(gs_1.split(main_data, groups=main_data[\"patientID\"]))\n",
    "train_test = main_data.loc[train_test_ix]\n",
    "val = main_data.loc[val_ix]\n",
    "\n",
    "train_test = train_test.reset_index(drop=True)\n",
    "gs_2 = GroupShuffleSplit(n_splits=1, train_size=.75, random_state=42)\n",
    "train_ix, test_ix = next(gs_2.split(train_test, groups=train_test[\"patientID\"]))\n",
    "train = train_test.loc[train_ix]\n",
    "test = train_test.loc[test_ix]\n",
    "\n",
    "# https://stackoverflow.com/questions/68152473/python-split-to-train-test-val-using-groupshufflesplit"
   ]
  },
  {
   "cell_type": "code",
   "execution_count": 8,
   "metadata": {},
   "outputs": [
    {
     "ename": "NameError",
     "evalue": "name 'X_train' is not defined",
     "output_type": "error",
     "traceback": [
      "\u001b[0;31m---------------------------------------------------------------------------\u001b[0m",
      "\u001b[0;31mNameError\u001b[0m                                 Traceback (most recent call last)",
      "\u001b[0;32m/var/folders/y9/zqghcs590x78pdxdn844njrm0000gn/T/ipykernel_23680/853513875.py\u001b[0m in \u001b[0;36m<module>\u001b[0;34m\u001b[0m\n\u001b[1;32m      2\u001b[0m \u001b[0mplt\u001b[0m\u001b[0;34m.\u001b[0m\u001b[0msubplot\u001b[0m\u001b[0;34m(\u001b[0m\u001b[0;36m1\u001b[0m\u001b[0;34m,\u001b[0m\u001b[0;36m2\u001b[0m\u001b[0;34m,\u001b[0m\u001b[0;36m1\u001b[0m\u001b[0;34m)\u001b[0m\u001b[0;34m\u001b[0m\u001b[0;34m\u001b[0m\u001b[0m\n\u001b[1;32m      3\u001b[0m \u001b[0mplt\u001b[0m\u001b[0;34m.\u001b[0m\u001b[0mtight_layout\u001b[0m\u001b[0;34m(\u001b[0m\u001b[0mpad\u001b[0m\u001b[0;34m=\u001b[0m\u001b[0;36m4.0\u001b[0m\u001b[0;34m)\u001b[0m\u001b[0;34m\u001b[0m\u001b[0;34m\u001b[0m\u001b[0m\n\u001b[0;32m----> 4\u001b[0;31m \u001b[0mplt\u001b[0m\u001b[0;34m.\u001b[0m\u001b[0mhist\u001b[0m\u001b[0;34m(\u001b[0m\u001b[0mx\u001b[0m\u001b[0;34m=\u001b[0m\u001b[0mX_train\u001b[0m\u001b[0;34m[\u001b[0m\u001b[0;34m'patientID'\u001b[0m\u001b[0;34m]\u001b[0m\u001b[0;34m,\u001b[0m \u001b[0malpha\u001b[0m\u001b[0;34m=\u001b[0m\u001b[0;36m0.3\u001b[0m\u001b[0;34m,\u001b[0m \u001b[0mcolor\u001b[0m\u001b[0;34m=\u001b[0m\u001b[0;34m'r'\u001b[0m\u001b[0;34m,\u001b[0m \u001b[0mbins\u001b[0m\u001b[0;34m=\u001b[0m\u001b[0;36m60\u001b[0m\u001b[0;34m,\u001b[0m\u001b[0mrange\u001b[0m\u001b[0;34m=\u001b[0m\u001b[0;34m(\u001b[0m\u001b[0;36m0\u001b[0m\u001b[0;34m,\u001b[0m\u001b[0;36m60\u001b[0m\u001b[0;34m)\u001b[0m\u001b[0;34m)\u001b[0m\u001b[0;34m\u001b[0m\u001b[0;34m\u001b[0m\u001b[0m\n\u001b[0m\u001b[1;32m      5\u001b[0m \u001b[0mplt\u001b[0m\u001b[0;34m.\u001b[0m\u001b[0mhist\u001b[0m\u001b[0;34m(\u001b[0m\u001b[0mx\u001b[0m\u001b[0;34m=\u001b[0m\u001b[0mX_val\u001b[0m\u001b[0;34m[\u001b[0m\u001b[0;34m'patientID'\u001b[0m\u001b[0;34m]\u001b[0m\u001b[0;34m,\u001b[0m \u001b[0malpha\u001b[0m\u001b[0;34m=\u001b[0m\u001b[0;36m0.3\u001b[0m\u001b[0;34m,\u001b[0m \u001b[0mcolor\u001b[0m\u001b[0;34m=\u001b[0m\u001b[0;34m'b'\u001b[0m\u001b[0;34m,\u001b[0m \u001b[0mbins\u001b[0m\u001b[0;34m=\u001b[0m\u001b[0;36m60\u001b[0m\u001b[0;34m,\u001b[0m \u001b[0mrange\u001b[0m\u001b[0;34m=\u001b[0m\u001b[0;34m(\u001b[0m\u001b[0;36m0\u001b[0m\u001b[0;34m,\u001b[0m\u001b[0;36m60\u001b[0m\u001b[0;34m)\u001b[0m\u001b[0;34m)\u001b[0m\u001b[0;34m\u001b[0m\u001b[0;34m\u001b[0m\u001b[0m\n\u001b[1;32m      6\u001b[0m \u001b[0mplt\u001b[0m\u001b[0;34m.\u001b[0m\u001b[0mhist\u001b[0m\u001b[0;34m(\u001b[0m\u001b[0mx\u001b[0m\u001b[0;34m=\u001b[0m\u001b[0mX_test\u001b[0m\u001b[0;34m[\u001b[0m\u001b[0;34m'patientID'\u001b[0m\u001b[0;34m]\u001b[0m\u001b[0;34m,\u001b[0m \u001b[0malpha\u001b[0m\u001b[0;34m=\u001b[0m\u001b[0;36m0.3\u001b[0m\u001b[0;34m,\u001b[0m \u001b[0mcolor\u001b[0m\u001b[0;34m=\u001b[0m\u001b[0;34m'g'\u001b[0m\u001b[0;34m,\u001b[0m \u001b[0mbins\u001b[0m\u001b[0;34m=\u001b[0m\u001b[0;36m60\u001b[0m\u001b[0;34m,\u001b[0m \u001b[0mrange\u001b[0m\u001b[0;34m=\u001b[0m\u001b[0;34m(\u001b[0m\u001b[0;36m0\u001b[0m\u001b[0;34m,\u001b[0m\u001b[0;36m60\u001b[0m\u001b[0;34m)\u001b[0m\u001b[0;34m)\u001b[0m\u001b[0;34m\u001b[0m\u001b[0;34m\u001b[0m\u001b[0m\n",
      "\u001b[0;31mNameError\u001b[0m: name 'X_train' is not defined"
     ]
    },
    {
     "data": {
      "image/png": "[encoded data removed]",
      "text/plain": [
       "<Figure size 1000x700 with 1 Axes>"
      ]
     },
     "metadata": {},
     "output_type": "display_data"
    }
   ],
   "source": [
    "plt.figure(figsize=(10,7))\n",
    "plt.subplot(1,2,1)\n",
    "plt.tight_layout(pad=4.0)\n",
    "plt.hist(x=X_train['patientID'], alpha=0.3, color='r', bins=60,range=(0,60))\n",
    "plt.hist(x=X_val['patientID'], alpha=0.3, color='b', bins=60, range=(0,60))\n",
    "plt.hist(x=X_test['patientID'], alpha=0.3, color='g', bins=60, range=(0,60))\n",
    "plt.xticks(rotation=60)"
   ]
  },
  {
   "cell_type": "code",
   "execution_count": 32,
   "metadata": {},
   "outputs": [],
   "source": [
    "INPUT_DIM = (27,27,3)\n",
    "HIDDEN_LAYER_DIM = 256\n",
    "OUTPUT_CLASSES = 1\n",
    "BATCH_SIZE = 27"
   ]
  },
  {
   "cell_type": "code",
   "execution_count": 33,
   "metadata": {},
   "outputs": [],
   "source": [
    "model = tf.keras.Sequential([\n",
    "    tf.keras.layers.Flatten(input_shape=INPUT_DIM),\n",
    "    # tf.keras.layers.Dense(HIDDEN_LAYER_DIM, activation='sigmoid'),\n",
    "    tf.keras.layers.Dense(OUTPUT_CLASSES, activation=\"sigmoid\")\n",
    "])"
   ]
  },
  {
   "cell_type": "code",
   "execution_count": 34,
   "metadata": {},
   "outputs": [
    {
     "name": "stdout",
     "output_type": "stream",
     "text": [
      "Model: \"sequential_2\"\n",
      "_________________________________________________________________\n",
      " Layer (type)                Output Shape              Param #   \n",
      "=================================================================\n",
      " flatten_2 (Flatten)         (None, 2187)              0         \n",
      "                                                                 \n",
      " dense_3 (Dense)             (None, 1)                 2188      \n",
      "                                                                 \n",
      "=================================================================\n",
      "Total params: 2,188\n",
      "Trainable params: 2,188\n",
      "Non-trainable params: 0\n",
      "_________________________________________________________________\n"
     ]
    }
   ],
   "source": [
    "model.summary()"
   ]
  },
  {
   "cell_type": "code",
   "execution_count": 35,
   "metadata": {},
   "outputs": [
    {
     "data": {
      "image/png": "[encoded data removed]",
      "text/plain": [
       "<IPython.core.display.Image object>"
      ]
     },
     "execution_count": 35,
     "metadata": {},
     "output_type": "execute_result"
    }
   ],
   "source": [
    "tf.keras.utils.plot_model(model, show_shapes=True)"
   ]
  },
  {
   "cell_type": "code",
   "execution_count": 36,
   "metadata": {},
   "outputs": [],
   "source": [
    "# from keras.optimizers import SGD\n",
    "# opt = SGD(learning_rate=0.01)\n",
    "model.compile(optimizer = 'Adam',\n",
    "              loss=tf.keras.losses.BinaryCrossentropy(from_logits=True),\n",
    "              metrics=[tf.keras.metrics.BinaryAccuracy()])"
   ]
  },
  {
   "cell_type": "code",
   "execution_count": 37,
   "metadata": {},
   "outputs": [],
   "source": [
    "# X_train['isCancerous'] = X_train['isCancerous'].astype('str')\n",
    "# X_val['isCancerous'] = X_val['isCancerous'].astype('str')"
   ]
  },
  {
   "cell_type": "code",
   "execution_count": 38,
   "metadata": {},
   "outputs": [],
   "source": [
    "train['isCancerous'] = train['isCancerous'].astype('str')\n",
    "val['isCancerous'] = val['isCancerous'].astype('str')"
   ]
  },
  {
   "cell_type": "code",
   "execution_count": null,
   "metadata": {},
   "outputs": [],
   "source": []
  },
  {
   "cell_type": "code",
   "execution_count": 39,
   "metadata": {},
   "outputs": [
    {
     "name": "stdout",
     "output_type": "stream",
     "text": [
      "Found 5671 validated image filenames belonging to 2 classes.\n",
      "Found 1839 validated image filenames belonging to 2 classes.\n"
     ]
    }
   ],
   "source": [
    "from tensorflow.keras.preprocessing.image import ImageDataGenerator\n",
    "\n",
    "train_gen = ImageDataGenerator(rescale=1./255, data_format='channels_last')\n",
    "val_gen = ImageDataGenerator(rescale=1./255, data_format='channels_last')\n",
    "\n",
    "train_generator = train_gen.flow_from_dataframe(\n",
    "        dataframe=train,\n",
    "        directory='./Image_classification_data/patch_images',\n",
    "        x_col=\"ImageName\",\n",
    "        y_col=\"isCancerous\",\n",
    "        target_size=(27, 27),\n",
    "        batch_size=BATCH_SIZE,\n",
    "        class_mode='binary')\n",
    "\n",
    "validation_generator = val_gen.flow_from_dataframe(\n",
    "        dataframe=val,\n",
    "        directory='./Image_classification_data/patch_images',\n",
    "        x_col=\"ImageName\",\n",
    "        y_col=\"isCancerous\",\n",
    "        target_size=(27, 27),\n",
    "        batch_size=BATCH_SIZE,\n",
    "        class_mode='binary')"
   ]
  },
  {
   "cell_type": "code",
   "execution_count": 40,
   "metadata": {},
   "outputs": [
    {
     "name": "stdout",
     "output_type": "stream",
     "text": [
      "Epoch 1/50\n"
     ]
    },
    {
     "name": "stderr",
     "output_type": "stream",
     "text": [
      "/Users/williamfurler/opt/anaconda3/lib/python3.9/site-packages/keras/backend.py:5673: UserWarning: \"`binary_crossentropy` received `from_logits=True`, but the `output` argument was produced by a Sigmoid activation and thus does not represent logits. Was this intended?\n",
      "  output, from_logits = _get_logits(\n"
     ]
    },
    {
     "name": "stdout",
     "output_type": "stream",
     "text": [
      "211/211 [==============================] - 3s 11ms/step - loss: 0.5419 - binary_accuracy: 0.7311 - val_loss: 0.4853 - val_binary_accuracy: 0.7803\n",
      "Epoch 2/50\n",
      "211/211 [==============================] - 1s 6ms/step - loss: 0.4250 - binary_accuracy: 0.8168 - val_loss: 0.4935 - val_binary_accuracy: 0.7439\n",
      "Epoch 3/50\n",
      "211/211 [==============================] - 1s 6ms/step - loss: 0.3583 - binary_accuracy: 0.8603 - val_loss: 0.4049 - val_binary_accuracy: 0.8254\n",
      "Epoch 4/50\n",
      "211/211 [==============================] - 1s 6ms/step - loss: 0.3444 - binary_accuracy: 0.8572 - val_loss: 0.4249 - val_binary_accuracy: 0.8086\n",
      "Epoch 5/50\n",
      "211/211 [==============================] - 1s 7ms/step - loss: 0.3466 - binary_accuracy: 0.8519 - val_loss: 0.3739 - val_binary_accuracy: 0.8396\n",
      "Epoch 6/50\n",
      "211/211 [==============================] - 2s 8ms/step - loss: 0.3178 - binary_accuracy: 0.8723 - val_loss: 0.3591 - val_binary_accuracy: 0.8461\n",
      "Epoch 7/50\n",
      "211/211 [==============================] - 1s 6ms/step - loss: 0.3165 - binary_accuracy: 0.8681 - val_loss: 0.3597 - val_binary_accuracy: 0.8450\n",
      "Epoch 8/50\n",
      "211/211 [==============================] - 1s 6ms/step - loss: 0.3186 - binary_accuracy: 0.8663 - val_loss: 0.5170 - val_binary_accuracy: 0.7716\n",
      "Epoch 9/50\n",
      "211/211 [==============================] - 1s 6ms/step - loss: 0.3249 - binary_accuracy: 0.8589 - val_loss: 0.3491 - val_binary_accuracy: 0.8499\n",
      "Epoch 10/50\n",
      "211/211 [==============================] - 1s 6ms/step - loss: 0.3101 - binary_accuracy: 0.8690 - val_loss: 0.4483 - val_binary_accuracy: 0.8059\n",
      "Epoch 11/50\n",
      "211/211 [==============================] - 1s 6ms/step - loss: 0.3168 - binary_accuracy: 0.8677 - val_loss: 0.4150 - val_binary_accuracy: 0.8260\n",
      "Epoch 12/50\n",
      "211/211 [==============================] - 1s 6ms/step - loss: 0.3281 - binary_accuracy: 0.8589 - val_loss: 0.4038 - val_binary_accuracy: 0.8287\n",
      "Epoch 13/50\n",
      "211/211 [==============================] - 1s 6ms/step - loss: 0.3023 - binary_accuracy: 0.8690 - val_loss: 0.3828 - val_binary_accuracy: 0.8380\n",
      "Epoch 14/50\n",
      "211/211 [==============================] - 1s 6ms/step - loss: 0.3060 - binary_accuracy: 0.8711 - val_loss: 0.3920 - val_binary_accuracy: 0.8374\n",
      "Epoch 15/50\n",
      "211/211 [==============================] - 1s 6ms/step - loss: 0.3004 - binary_accuracy: 0.8744 - val_loss: 0.4087 - val_binary_accuracy: 0.8276\n",
      "Epoch 16/50\n",
      "211/211 [==============================] - 1s 6ms/step - loss: 0.2969 - binary_accuracy: 0.8762 - val_loss: 0.7441 - val_binary_accuracy: 0.7064\n",
      "Epoch 17/50\n",
      "211/211 [==============================] - 1s 7ms/step - loss: 0.3076 - binary_accuracy: 0.8658 - val_loss: 0.3595 - val_binary_accuracy: 0.8477\n",
      "Epoch 18/50\n",
      "211/211 [==============================] - 2s 7ms/step - loss: 0.2954 - binary_accuracy: 0.8736 - val_loss: 0.3942 - val_binary_accuracy: 0.8380\n",
      "Epoch 19/50\n",
      "211/211 [==============================] - 2s 8ms/step - loss: 0.3178 - binary_accuracy: 0.8651 - val_loss: 0.3755 - val_binary_accuracy: 0.8439\n",
      "Epoch 20/50\n",
      "211/211 [==============================] - 1s 7ms/step - loss: 0.3130 - binary_accuracy: 0.8649 - val_loss: 0.3889 - val_binary_accuracy: 0.8401\n",
      "Epoch 21/50\n",
      "211/211 [==============================] - 2s 7ms/step - loss: 0.2911 - binary_accuracy: 0.8767 - val_loss: 0.3707 - val_binary_accuracy: 0.8331\n",
      "Epoch 22/50\n",
      "211/211 [==============================] - 1s 7ms/step - loss: 0.2995 - binary_accuracy: 0.8715 - val_loss: 0.5485 - val_binary_accuracy: 0.7771\n",
      "Epoch 23/50\n",
      "211/211 [==============================] - 2s 8ms/step - loss: 0.2965 - binary_accuracy: 0.8741 - val_loss: 0.3621 - val_binary_accuracy: 0.8499\n",
      "Epoch 24/50\n",
      "211/211 [==============================] - 1s 6ms/step - loss: 0.2969 - binary_accuracy: 0.8773 - val_loss: 0.3859 - val_binary_accuracy: 0.8423\n",
      "Epoch 25/50\n",
      "211/211 [==============================] - 1s 6ms/step - loss: 0.2926 - binary_accuracy: 0.8757 - val_loss: 0.4394 - val_binary_accuracy: 0.8200\n",
      "Epoch 26/50\n",
      "211/211 [==============================] - 1s 6ms/step - loss: 0.3065 - binary_accuracy: 0.8674 - val_loss: 0.4672 - val_binary_accuracy: 0.8091\n",
      "Epoch 27/50\n",
      "211/211 [==============================] - 1s 6ms/step - loss: 0.3095 - binary_accuracy: 0.8676 - val_loss: 0.3828 - val_binary_accuracy: 0.8445\n",
      "Epoch 28/50\n",
      "211/211 [==============================] - 1s 6ms/step - loss: 0.2950 - binary_accuracy: 0.8757 - val_loss: 0.3703 - val_binary_accuracy: 0.8477\n",
      "Epoch 29/50\n",
      "211/211 [==============================] - 1s 6ms/step - loss: 0.3013 - binary_accuracy: 0.8713 - val_loss: 0.3689 - val_binary_accuracy: 0.8467\n",
      "Epoch 30/50\n",
      "211/211 [==============================] - 1s 6ms/step - loss: 0.3074 - binary_accuracy: 0.8704 - val_loss: 0.3711 - val_binary_accuracy: 0.8467\n",
      "Epoch 31/50\n",
      "211/211 [==============================] - 1s 6ms/step - loss: 0.2914 - binary_accuracy: 0.8776 - val_loss: 0.4068 - val_binary_accuracy: 0.8314\n",
      "Epoch 32/50\n",
      "211/211 [==============================] - 1s 6ms/step - loss: 0.3049 - binary_accuracy: 0.8716 - val_loss: 0.4125 - val_binary_accuracy: 0.8298\n",
      "Epoch 33/50\n",
      "211/211 [==============================] - 1s 6ms/step - loss: 0.2998 - binary_accuracy: 0.8706 - val_loss: 0.4752 - val_binary_accuracy: 0.8080\n",
      "Epoch 34/50\n",
      "211/211 [==============================] - 1s 6ms/step - loss: 0.2871 - binary_accuracy: 0.8759 - val_loss: 0.3675 - val_binary_accuracy: 0.8472\n",
      "Epoch 35/50\n",
      "211/211 [==============================] - 1s 6ms/step - loss: 0.2871 - binary_accuracy: 0.8819 - val_loss: 0.3622 - val_binary_accuracy: 0.8510\n",
      "Epoch 36/50\n",
      "211/211 [==============================] - 1s 6ms/step - loss: 0.2961 - binary_accuracy: 0.8741 - val_loss: 0.3797 - val_binary_accuracy: 0.8483\n",
      "Epoch 37/50\n",
      "211/211 [==============================] - 1s 6ms/step - loss: 0.3004 - binary_accuracy: 0.8753 - val_loss: 0.3798 - val_binary_accuracy: 0.8472\n",
      "Epoch 38/50\n",
      "211/211 [==============================] - 1s 6ms/step - loss: 0.2893 - binary_accuracy: 0.8774 - val_loss: 0.3680 - val_binary_accuracy: 0.8445\n",
      "Epoch 39/50\n",
      "211/211 [==============================] - 1s 6ms/step - loss: 0.2898 - binary_accuracy: 0.8773 - val_loss: 0.3665 - val_binary_accuracy: 0.8472\n",
      "Epoch 40/50\n",
      "211/211 [==============================] - 1s 6ms/step - loss: 0.2866 - binary_accuracy: 0.8801 - val_loss: 0.3885 - val_binary_accuracy: 0.8439\n",
      "Epoch 41/50\n",
      "211/211 [==============================] - 1s 6ms/step - loss: 0.2892 - binary_accuracy: 0.8767 - val_loss: 0.4047 - val_binary_accuracy: 0.8331\n",
      "Epoch 42/50\n",
      "211/211 [==============================] - 1s 6ms/step - loss: 0.3041 - binary_accuracy: 0.8722 - val_loss: 0.4818 - val_binary_accuracy: 0.8080\n",
      "Epoch 43/50\n",
      "211/211 [==============================] - 1s 7ms/step - loss: 0.2967 - binary_accuracy: 0.8755 - val_loss: 0.4296 - val_binary_accuracy: 0.8254\n",
      "Epoch 44/50\n",
      "211/211 [==============================] - 1s 6ms/step - loss: 0.2878 - binary_accuracy: 0.8785 - val_loss: 0.4143 - val_binary_accuracy: 0.8303\n",
      "Epoch 45/50\n",
      "211/211 [==============================] - 1s 6ms/step - loss: 0.2843 - binary_accuracy: 0.8794 - val_loss: 0.3985 - val_binary_accuracy: 0.8380\n",
      "Epoch 46/50\n",
      "211/211 [==============================] - 1s 6ms/step - loss: 0.2833 - binary_accuracy: 0.8822 - val_loss: 0.3829 - val_binary_accuracy: 0.8467\n",
      "Epoch 47/50\n",
      "211/211 [==============================] - 1s 6ms/step - loss: 0.2917 - binary_accuracy: 0.8748 - val_loss: 0.3705 - val_binary_accuracy: 0.8499\n",
      "Epoch 48/50\n",
      "211/211 [==============================] - 1s 6ms/step - loss: 0.3018 - binary_accuracy: 0.8722 - val_loss: 0.5113 - val_binary_accuracy: 0.7966\n",
      "Epoch 49/50\n",
      "211/211 [==============================] - 1s 6ms/step - loss: 0.2845 - binary_accuracy: 0.8773 - val_loss: 0.3920 - val_binary_accuracy: 0.8412\n",
      "Epoch 50/50\n",
      "211/211 [==============================] - 1s 6ms/step - loss: 0.2915 - binary_accuracy: 0.8780 - val_loss: 0.3920 - val_binary_accuracy: 0.8434\n"
     ]
    }
   ],
   "source": [
    "history = model.fit(train_generator, validation_data = validation_generator, epochs=50)"
   ]
  },
  {
   "cell_type": "code",
   "execution_count": 18,
   "metadata": {},
   "outputs": [
    {
     "data": {
      "image/png": "[encoded data removed]",
      "text/plain": [
       "<Figure size 800x800 with 2 Axes>"
      ]
     },
     "metadata": {},
     "output_type": "display_data"
    }
   ],
   "source": [
    "acc = history.history['binary_accuracy']\n",
    "val_acc = history.history['val_binary_accuracy']\n",
    "\n",
    "loss = history.history['loss']\n",
    "val_loss = history.history['val_loss']\n",
    "\n",
    "epochs_range = range(50)\n",
    "\n",
    "plt.figure(figsize=(8, 8))\n",
    "plt.subplot(1, 2, 1)\n",
    "plt.plot(epochs_range, acc, label='Training Accuracy')\n",
    "plt.plot(epochs_range, val_acc, label='Validation Accuracy')\n",
    "plt.legend(loc='lower right')\n",
    "plt.title('Training and Validation Accuracy')\n",
    "\n",
    "plt.subplot(1, 2, 2)\n",
    "\n",
    "plt.plot(epochs_range, loss, label='Training Loss')\n",
    "plt.plot(epochs_range, val_loss, label='Validation Loss')\n",
    "plt.legend(loc='upper right')\n",
    "plt.title('Training and Validation Loss')\n",
    "plt.show()"
   ]
  },
  {
   "cell_type": "code",
   "execution_count": null,
   "metadata": {},
   "outputs": [],
   "source": []
  },
  {
   "cell_type": "code",
   "execution_count": null,
   "metadata": {},
   "outputs": [],
   "source": []
  }
 ],
 "metadata": {
  "kernelspec": {
   "display_name": "Python 3 (ipykernel)",
   "language": "python",
   "name": "python3"
  },
  "language_info": {
   "codemirror_mode": {
    "name": "ipython",
    "version": 3
   },
   "file_extension": ".py",
   "mimetype": "text/x-python",
   "name": "python",
   "nbconvert_exporter": "python",
   "pygments_lexer": "ipython3",
   "version": "3.9.13"
  }
 },
 "nbformat": 4,
 "nbformat_minor": 4
}
